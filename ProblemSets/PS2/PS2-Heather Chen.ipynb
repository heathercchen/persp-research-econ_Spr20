{
 "cells": [
  {
   "cell_type": "markdown",
   "metadata": {},
   "source": [
    "# Problem Set 2\n",
    "### Heather Chen\n",
    "### 1. Parallel computing versus serial computing a bootstrapped cross validation\n",
    "#### (a)"
   ]
  },
  {
   "cell_type": "code",
   "execution_count": 2,
   "metadata": {},
   "outputs": [],
   "source": [
    "import pandas as pd\n",
    "import numpy as np"
   ]
  },
  {
   "cell_type": "code",
   "execution_count": 3,
   "metadata": {},
   "outputs": [
    {
     "data": {
      "text/html": [
       "<div>\n",
       "<style scoped>\n",
       "    .dataframe tbody tr th:only-of-type {\n",
       "        vertical-align: middle;\n",
       "    }\n",
       "\n",
       "    .dataframe tbody tr th {\n",
       "        vertical-align: top;\n",
       "    }\n",
       "\n",
       "    .dataframe thead th {\n",
       "        text-align: right;\n",
       "    }\n",
       "</style>\n",
       "<table border=\"1\" class=\"dataframe\">\n",
       "  <thead>\n",
       "    <tr style=\"text-align: right;\">\n",
       "      <th></th>\n",
       "      <th>mpg</th>\n",
       "      <th>cylinders</th>\n",
       "      <th>displacement</th>\n",
       "      <th>horsepower</th>\n",
       "      <th>weight</th>\n",
       "      <th>acceleration</th>\n",
       "      <th>year</th>\n",
       "      <th>origin</th>\n",
       "      <th>name</th>\n",
       "      <th>mpg high</th>\n",
       "      <th>orgn1</th>\n",
       "      <th>orgn2</th>\n",
       "    </tr>\n",
       "  </thead>\n",
       "  <tbody>\n",
       "    <tr>\n",
       "      <th>0</th>\n",
       "      <td>18.0</td>\n",
       "      <td>8</td>\n",
       "      <td>307.0</td>\n",
       "      <td>130.0</td>\n",
       "      <td>3504</td>\n",
       "      <td>12.0</td>\n",
       "      <td>70</td>\n",
       "      <td>1</td>\n",
       "      <td>chevrolet chevelle malibu</td>\n",
       "      <td>0</td>\n",
       "      <td>1</td>\n",
       "      <td>0</td>\n",
       "    </tr>\n",
       "    <tr>\n",
       "      <th>1</th>\n",
       "      <td>15.0</td>\n",
       "      <td>8</td>\n",
       "      <td>350.0</td>\n",
       "      <td>165.0</td>\n",
       "      <td>3693</td>\n",
       "      <td>11.5</td>\n",
       "      <td>70</td>\n",
       "      <td>1</td>\n",
       "      <td>buick skylark 320</td>\n",
       "      <td>0</td>\n",
       "      <td>1</td>\n",
       "      <td>0</td>\n",
       "    </tr>\n",
       "    <tr>\n",
       "      <th>2</th>\n",
       "      <td>18.0</td>\n",
       "      <td>8</td>\n",
       "      <td>318.0</td>\n",
       "      <td>150.0</td>\n",
       "      <td>3436</td>\n",
       "      <td>11.0</td>\n",
       "      <td>70</td>\n",
       "      <td>1</td>\n",
       "      <td>plymouth satellite</td>\n",
       "      <td>0</td>\n",
       "      <td>1</td>\n",
       "      <td>0</td>\n",
       "    </tr>\n",
       "    <tr>\n",
       "      <th>3</th>\n",
       "      <td>16.0</td>\n",
       "      <td>8</td>\n",
       "      <td>304.0</td>\n",
       "      <td>150.0</td>\n",
       "      <td>3433</td>\n",
       "      <td>12.0</td>\n",
       "      <td>70</td>\n",
       "      <td>1</td>\n",
       "      <td>amc rebel sst</td>\n",
       "      <td>0</td>\n",
       "      <td>1</td>\n",
       "      <td>0</td>\n",
       "    </tr>\n",
       "    <tr>\n",
       "      <th>4</th>\n",
       "      <td>17.0</td>\n",
       "      <td>8</td>\n",
       "      <td>302.0</td>\n",
       "      <td>140.0</td>\n",
       "      <td>3449</td>\n",
       "      <td>10.5</td>\n",
       "      <td>70</td>\n",
       "      <td>1</td>\n",
       "      <td>ford torino</td>\n",
       "      <td>0</td>\n",
       "      <td>1</td>\n",
       "      <td>0</td>\n",
       "    </tr>\n",
       "  </tbody>\n",
       "</table>\n",
       "</div>"
      ],
      "text/plain": [
       "    mpg  cylinders  displacement  horsepower  weight  acceleration  year  \\\n",
       "0  18.0          8         307.0       130.0    3504          12.0    70   \n",
       "1  15.0          8         350.0       165.0    3693          11.5    70   \n",
       "2  18.0          8         318.0       150.0    3436          11.0    70   \n",
       "3  16.0          8         304.0       150.0    3433          12.0    70   \n",
       "4  17.0          8         302.0       140.0    3449          10.5    70   \n",
       "\n",
       "   origin                       name  mpg high  orgn1  orgn2  \n",
       "0       1  chevrolet chevelle malibu         0      1      0  \n",
       "1       1          buick skylark 320         0      1      0  \n",
       "2       1         plymouth satellite         0      1      0  \n",
       "3       1              amc rebel sst         0      1      0  \n",
       "4       1                ford torino         0      1      0  "
      ]
     },
     "execution_count": 3,
     "metadata": {},
     "output_type": "execute_result"
    }
   ],
   "source": [
    "auto_df=pd.read_csv(\"data/Auto.csv\", na_values='?')\n",
    "auto_df.dropna(inplace=True)\n",
    "auto_df['mpg high']=np.where(auto_df['mpg']>= np.median(auto_df['mpg']),1,0)\n",
    "auto_df['orgn1']=np.where(auto_df['origin']==1,1,0)\n",
    "auto_df['orgn2']=np.where(auto_df['origin']==2,1,0)\n",
    "auto_df.head()"
   ]
  },
  {
   "cell_type": "code",
   "execution_count": 7,
   "metadata": {},
   "outputs": [
    {
     "name": "stdout",
     "output_type": "stream",
     "text": [
      "Test estimate MSE bootstrap= 0.10196\n",
      "Test estimate MSE bootstrap standard err= 0.02076\n",
      "Seconds for computation 1.443614651999951\n"
     ]
    }
   ],
   "source": [
    "import timeit\n",
    "from sklearn.model_selection import train_test_split\n",
    "from sklearn.linear_model import LogisticRegression\n",
    "import multiprocessing\n",
    "from dask import compute, delayed\n",
    "import dask.multiprocessing\n",
    "\n",
    "import warnings\n",
    "warnings.filterwarnings(\"ignore\")\n",
    "\n",
    "time1 = timeit.default_timer()\n",
    "\n",
    "N = 100\n",
    "MSE_vec_bs  = []\n",
    "X = auto_df[['cylinders', 'displacement', 'horsepower', 'weight',\n",
    "        'acceleration', 'year', 'orgn1', 'orgn2']]\n",
    "\n",
    "for bs_ind in range(N):\n",
    "    X_train, X_test, y_train, y_test = \\\n",
    "        train_test_split(X, auto_df['mpg high'], test_size = 0.35,random_state=bs_ind)\n",
    "    LogReg = LogisticRegression().fit(X_train, y_train)\n",
    "    y_pred = LogReg.predict(X_test)\n",
    "    MSE = np.mean((y_test - y_pred) ** 2)\n",
    "    MSE_vec_bs.append(MSE)\n",
    "\n",
    "\n",
    "MSE_bs = np.mean(MSE_vec_bs)\n",
    "MSE_bs_std = np.std(MSE_vec_bs)\n",
    "\n",
    "time2 = timeit.default_timer()\n",
    "\n",
    "print('Test estimate MSE bootstrap=', round(MSE_bs,5))\n",
    "print('Test estimate MSE bootstrap standard err=', round(MSE_bs_std,5))\n",
    "print('Seconds for computation',time2-time1)"
   ]
  },
  {
   "cell_type": "markdown",
   "metadata": {},
   "source": [
    "#### (b)"
   ]
  },
  {
   "cell_type": "code",
   "execution_count": 8,
   "metadata": {},
   "outputs": [
    {
     "name": "stdout",
     "output_type": "stream",
     "text": [
      "Number of available cores is 8\n"
     ]
    }
   ],
   "source": [
    "num_cores = multiprocessing.cpu_count()\n",
    "print('Number of available cores is', num_cores)"
   ]
  },
  {
   "cell_type": "code",
   "execution_count": 11,
   "metadata": {},
   "outputs": [
    {
     "name": "stdout",
     "output_type": "stream",
     "text": [
      "Test estimate MSE bootstrap= 0.10195652173913043\n",
      "Test estimate MSE bootstrap standard err= 0.020756917194664794\n",
      "Seconds for computation= 0.5612498440000309 seconds\n"
     ]
    }
   ],
   "source": [
    "def logistic(bs, seed, data):\n",
    "    \n",
    "    X_train, X_test, y_train, y_test = \\\n",
    "        train_test_split(X, auto_df['mpg high'], test_size = 0.35, random_state = seed)\n",
    "    LogReg = LogisticRegression().fit(X_train, y_train)\n",
    "    y_pred = LogReg.predict(X_test)\n",
    "    MSE = ((y_test - y_pred) ** 2).mean()\n",
    "    return MSE\n",
    "\n",
    "start_time = timeit.default_timer()\n",
    "\n",
    "lazy_values = [delayed(logistic)(i,i,auto_df) for i in range(100)]\n",
    "\n",
    "results_par = compute(*lazy_values, scheduler=dask.multiprocessing.get, num_workers=num_cores)\n",
    "\n",
    "MSE_bs2 = np.mean(results_par)\n",
    "MSE_bs_std2 = np.std(results_par)\n",
    "\n",
    "end_time= timeit.default_timer()\n",
    "\n",
    "print('Test estimate MSE bootstrap=', MSE_bs2)\n",
    "print('Test estimate MSE bootstrap standard err=', MSE_bs_std2)\n",
    "\n",
    "print('Seconds for computation=', end_time-start_time, 'seconds')"
   ]
  },
  {
   "cell_type": "code",
   "execution_count": null,
   "metadata": {},
   "outputs": [],
   "source": []
  }
 ],
 "metadata": {
  "kernelspec": {
   "display_name": "Python 3",
   "language": "python",
   "name": "python3"
  },
  "language_info": {
   "codemirror_mode": {
    "name": "ipython",
    "version": 3
   },
   "file_extension": ".py",
   "mimetype": "text/x-python",
   "name": "python",
   "nbconvert_exporter": "python",
   "pygments_lexer": "ipython3",
   "version": "3.7.6"
  }
 },
 "nbformat": 4,
 "nbformat_minor": 4
}
